{
 "cells": [
  {
   "cell_type": "markdown",
   "metadata": {
    "id": "O-97SDET3JG-"
   },
   "source": [
    "# Lab 1: Pengantar TensorFlow dan Generasi Musik dengan RNN\n",
    "\n",
    "# Bagian 2: Generasi Musik dengan RNN\n",
    "\n",
    "Pada bagian lab ini, kita akan mengeksplorasi pembangunan Recurrent Neural Network (RNN) untuk generasi musik. Kita akan melatih sebuah model agar dapat mempelajari pola-pola dalam lembaran musik mentah menggunakan [notasi ABC](https://en.wikipedia.org/wiki/ABC_notation), lalu menggunakan model ini untuk menghasilkan musik baru.\n"
   ]
  },
  {
   "cell_type": "markdown",
   "metadata": {},
   "source": [
    "## 2.1 Dependensi\n",
    "Pertama, mari kita unduh repository kursus, pasang dependensi, dan impor paket-paket yang relevan yang akan kita gunakan dalam lab ini.\n",
    "\n",
    "Kita akan menggunakan [Comet ML](https://www.comet.com/docs/v2/) untuk melacak pengembangan model dan proses pelatihan.  \n",
    "Langkah pertama, daftar akun Comet melalui [tautan ini](https://www.comet.com/signup?utm_source=mit_dl&utm_medium=partner&utm_content=github) (kamu bisa menggunakan akun Google atau Github).  \n",
    "\n",
    "Setelah itu, kamu akan mendapatkan **API Key pribadi**, yang bisa ditemukan di:\n",
    "- halaman pertama **Get Started with Comet**,  \n",
    "- pengaturan akun, atau  \n",
    "- dengan menekan tombol `?` di pojok kanan atas lalu memilih **Quickstart Guide**.  \n",
    "\n",
    "Masukkan API key ini sebagai variabel global `COMET_API_KEY`.\n"
   ]
  },
  {
   "cell_type": "code",
   "execution_count": null,
   "metadata": {
    "id": "riVZCVK65QTH"
   },
   "outputs": [
    {
     "name": "stdout",
     "output_type": "stream",
     "text": [
      "Requirement already satisfied: setuptools==65.5.0 in c:\\users\\lenovo\\anaconda3\\envs\\tf-gpu\\lib\\site-packages (65.5.0)\n",
      "Requirement already satisfied: packaging==21.3 in c:\\users\\lenovo\\anaconda3\\envs\\tf-gpu\\lib\\site-packages (21.3)\n",
      "Requirement already satisfied: pyparsing!=3.0.5,>=2.0.2 in c:\\users\\lenovo\\anaconda3\\envs\\tf-gpu\\lib\\site-packages (from packaging==21.3) (3.2.3)\n",
      "Requirement already satisfied: mitdeeplearning in c:\\users\\lenovo\\anaconda3\\envs\\tf-gpu\\lib\\site-packages (0.7.5)\n",
      "Requirement already satisfied: numpy in c:\\users\\lenovo\\anaconda3\\envs\\tf-gpu\\lib\\site-packages (from mitdeeplearning) (2.2.6)\n",
      "Requirement already satisfied: regex in c:\\users\\lenovo\\anaconda3\\envs\\tf-gpu\\lib\\site-packages (from mitdeeplearning) (2025.9.1)\n",
      "Requirement already satisfied: tqdm in c:\\users\\lenovo\\anaconda3\\envs\\tf-gpu\\lib\\site-packages (from mitdeeplearning) (4.67.1)\n",
      "Requirement already satisfied: gym in c:\\users\\lenovo\\anaconda3\\envs\\tf-gpu\\lib\\site-packages (from mitdeeplearning) (0.26.2)\n",
      "Requirement already satisfied: opik in c:\\users\\lenovo\\anaconda3\\envs\\tf-gpu\\lib\\site-packages (from mitdeeplearning) (1.8.44)\n",
      "Requirement already satisfied: openai in c:\\users\\lenovo\\anaconda3\\envs\\tf-gpu\\lib\\site-packages (from mitdeeplearning) (1.99.9)\n",
      "Requirement already satisfied: transformers in c:\\users\\lenovo\\anaconda3\\envs\\tf-gpu\\lib\\site-packages (from mitdeeplearning) (4.56.1)\n",
      "Requirement already satisfied: datasets in c:\\users\\lenovo\\anaconda3\\envs\\tf-gpu\\lib\\site-packages (from mitdeeplearning) (4.0.0)\n",
      "Requirement already satisfied: peft in c:\\users\\lenovo\\anaconda3\\envs\\tf-gpu\\lib\\site-packages (from mitdeeplearning) (0.17.1)\n",
      "Requirement already satisfied: lion-pytorch in c:\\users\\lenovo\\anaconda3\\envs\\tf-gpu\\lib\\site-packages (from mitdeeplearning) (0.2.3)\n",
      "Requirement already satisfied: filelock in c:\\users\\lenovo\\anaconda3\\envs\\tf-gpu\\lib\\site-packages (from datasets->mitdeeplearning) (3.19.1)\n",
      "Requirement already satisfied: pyarrow>=15.0.0 in c:\\users\\lenovo\\anaconda3\\envs\\tf-gpu\\lib\\site-packages (from datasets->mitdeeplearning) (21.0.0)\n",
      "Requirement already satisfied: dill<0.3.9,>=0.3.0 in c:\\users\\lenovo\\anaconda3\\envs\\tf-gpu\\lib\\site-packages (from datasets->mitdeeplearning) (0.3.8)\n",
      "Requirement already satisfied: pandas in c:\\users\\lenovo\\anaconda3\\envs\\tf-gpu\\lib\\site-packages (from datasets->mitdeeplearning) (2.2.3)\n",
      "Requirement already satisfied: requests>=2.32.2 in c:\\users\\lenovo\\anaconda3\\envs\\tf-gpu\\lib\\site-packages (from datasets->mitdeeplearning) (2.32.3)\n",
      "Requirement already satisfied: xxhash in c:\\users\\lenovo\\anaconda3\\envs\\tf-gpu\\lib\\site-packages (from datasets->mitdeeplearning) (3.5.0)\n",
      "Requirement already satisfied: multiprocess<0.70.17 in c:\\users\\lenovo\\anaconda3\\envs\\tf-gpu\\lib\\site-packages (from datasets->mitdeeplearning) (0.70.16)\n",
      "Requirement already satisfied: fsspec<=2025.3.0,>=2023.1.0 in c:\\users\\lenovo\\anaconda3\\envs\\tf-gpu\\lib\\site-packages (from fsspec[http]<=2025.3.0,>=2023.1.0->datasets->mitdeeplearning) (2025.3.0)\n",
      "Requirement already satisfied: huggingface-hub>=0.24.0 in c:\\users\\lenovo\\anaconda3\\envs\\tf-gpu\\lib\\site-packages (from datasets->mitdeeplearning) (0.34.4)\n",
      "Requirement already satisfied: packaging in c:\\users\\lenovo\\anaconda3\\envs\\tf-gpu\\lib\\site-packages (from datasets->mitdeeplearning) (21.3)\n",
      "Requirement already satisfied: pyyaml>=5.1 in c:\\users\\lenovo\\anaconda3\\envs\\tf-gpu\\lib\\site-packages (from datasets->mitdeeplearning) (6.0.2)\n",
      "Requirement already satisfied: aiohttp!=4.0.0a0,!=4.0.0a1 in c:\\users\\lenovo\\anaconda3\\envs\\tf-gpu\\lib\\site-packages (from fsspec[http]<=2025.3.0,>=2023.1.0->datasets->mitdeeplearning) (3.12.15)\n",
      "Requirement already satisfied: aiohappyeyeballs>=2.5.0 in c:\\users\\lenovo\\anaconda3\\envs\\tf-gpu\\lib\\site-packages (from aiohttp!=4.0.0a0,!=4.0.0a1->fsspec[http]<=2025.3.0,>=2023.1.0->datasets->mitdeeplearning) (2.6.1)\n",
      "Requirement already satisfied: aiosignal>=1.4.0 in c:\\users\\lenovo\\anaconda3\\envs\\tf-gpu\\lib\\site-packages (from aiohttp!=4.0.0a0,!=4.0.0a1->fsspec[http]<=2025.3.0,>=2023.1.0->datasets->mitdeeplearning) (1.4.0)\n",
      "Requirement already satisfied: async-timeout<6.0,>=4.0 in c:\\users\\lenovo\\anaconda3\\envs\\tf-gpu\\lib\\site-packages (from aiohttp!=4.0.0a0,!=4.0.0a1->fsspec[http]<=2025.3.0,>=2023.1.0->datasets->mitdeeplearning) (5.0.1)\n",
      "Requirement already satisfied: attrs>=17.3.0 in c:\\users\\lenovo\\anaconda3\\envs\\tf-gpu\\lib\\site-packages (from aiohttp!=4.0.0a0,!=4.0.0a1->fsspec[http]<=2025.3.0,>=2023.1.0->datasets->mitdeeplearning) (25.3.0)\n",
      "Requirement already satisfied: frozenlist>=1.1.1 in c:\\users\\lenovo\\anaconda3\\envs\\tf-gpu\\lib\\site-packages (from aiohttp!=4.0.0a0,!=4.0.0a1->fsspec[http]<=2025.3.0,>=2023.1.0->datasets->mitdeeplearning) (1.7.0)\n",
      "Requirement already satisfied: multidict<7.0,>=4.5 in c:\\users\\lenovo\\anaconda3\\envs\\tf-gpu\\lib\\site-packages (from aiohttp!=4.0.0a0,!=4.0.0a1->fsspec[http]<=2025.3.0,>=2023.1.0->datasets->mitdeeplearning) (6.6.4)\n",
      "Requirement already satisfied: propcache>=0.2.0 in c:\\users\\lenovo\\anaconda3\\envs\\tf-gpu\\lib\\site-packages (from aiohttp!=4.0.0a0,!=4.0.0a1->fsspec[http]<=2025.3.0,>=2023.1.0->datasets->mitdeeplearning) (0.3.2)\n",
      "Requirement already satisfied: yarl<2.0,>=1.17.0 in c:\\users\\lenovo\\anaconda3\\envs\\tf-gpu\\lib\\site-packages (from aiohttp!=4.0.0a0,!=4.0.0a1->fsspec[http]<=2025.3.0,>=2023.1.0->datasets->mitdeeplearning) (1.20.1)\n",
      "Requirement already satisfied: typing-extensions>=4.1.0 in c:\\users\\lenovo\\anaconda3\\envs\\tf-gpu\\lib\\site-packages (from multidict<7.0,>=4.5->aiohttp!=4.0.0a0,!=4.0.0a1->fsspec[http]<=2025.3.0,>=2023.1.0->datasets->mitdeeplearning) (4.13.2)\n",
      "Requirement already satisfied: idna>=2.0 in c:\\users\\lenovo\\anaconda3\\envs\\tf-gpu\\lib\\site-packages (from yarl<2.0,>=1.17.0->aiohttp!=4.0.0a0,!=4.0.0a1->fsspec[http]<=2025.3.0,>=2023.1.0->datasets->mitdeeplearning) (3.10)\n",
      "Requirement already satisfied: pyparsing!=3.0.5,>=2.0.2 in c:\\users\\lenovo\\anaconda3\\envs\\tf-gpu\\lib\\site-packages (from packaging->datasets->mitdeeplearning) (3.2.3)\n",
      "Requirement already satisfied: charset-normalizer<4,>=2 in c:\\users\\lenovo\\anaconda3\\envs\\tf-gpu\\lib\\site-packages (from requests>=2.32.2->datasets->mitdeeplearning) (3.4.2)\n",
      "Requirement already satisfied: urllib3<3,>=1.21.1 in c:\\users\\lenovo\\anaconda3\\envs\\tf-gpu\\lib\\site-packages (from requests>=2.32.2->datasets->mitdeeplearning) (2.4.0)\n",
      "Requirement already satisfied: certifi>=2017.4.17 in c:\\users\\lenovo\\anaconda3\\envs\\tf-gpu\\lib\\site-packages (from requests>=2.32.2->datasets->mitdeeplearning) (2025.4.26)\n",
      "Requirement already satisfied: colorama in c:\\users\\lenovo\\anaconda3\\envs\\tf-gpu\\lib\\site-packages (from tqdm->mitdeeplearning) (0.4.6)\n",
      "Requirement already satisfied: cloudpickle>=1.2.0 in c:\\users\\lenovo\\anaconda3\\envs\\tf-gpu\\lib\\site-packages (from gym->mitdeeplearning) (3.1.1)\n",
      "Requirement already satisfied: gym_notices>=0.0.4 in c:\\users\\lenovo\\anaconda3\\envs\\tf-gpu\\lib\\site-packages (from gym->mitdeeplearning) (0.1.0)\n",
      "Requirement already satisfied: torch>=1.6 in c:\\users\\lenovo\\anaconda3\\envs\\tf-gpu\\lib\\site-packages (from lion-pytorch->mitdeeplearning) (2.8.0)\n",
      "Requirement already satisfied: sympy>=1.13.3 in c:\\users\\lenovo\\anaconda3\\envs\\tf-gpu\\lib\\site-packages (from torch>=1.6->lion-pytorch->mitdeeplearning) (1.14.0)\n",
      "Requirement already satisfied: networkx in c:\\users\\lenovo\\anaconda3\\envs\\tf-gpu\\lib\\site-packages (from torch>=1.6->lion-pytorch->mitdeeplearning) (3.4.2)\n",
      "Requirement already satisfied: jinja2 in c:\\users\\lenovo\\anaconda3\\envs\\tf-gpu\\lib\\site-packages (from torch>=1.6->lion-pytorch->mitdeeplearning) (3.1.6)\n",
      "Requirement already satisfied: mpmath<1.4,>=1.1.0 in c:\\users\\lenovo\\anaconda3\\envs\\tf-gpu\\lib\\site-packages (from sympy>=1.13.3->torch>=1.6->lion-pytorch->mitdeeplearning) (1.3.0)\n",
      "Requirement already satisfied: MarkupSafe>=2.0 in c:\\users\\lenovo\\anaconda3\\envs\\tf-gpu\\lib\\site-packages (from jinja2->torch>=1.6->lion-pytorch->mitdeeplearning) (3.0.2)\n",
      "Requirement already satisfied: anyio<5,>=3.5.0 in c:\\users\\lenovo\\anaconda3\\envs\\tf-gpu\\lib\\site-packages (from openai->mitdeeplearning) (4.10.0)\n",
      "Requirement already satisfied: distro<2,>=1.7.0 in c:\\users\\lenovo\\anaconda3\\envs\\tf-gpu\\lib\\site-packages (from openai->mitdeeplearning) (1.9.0)\n",
      "Requirement already satisfied: httpx<1,>=0.23.0 in c:\\users\\lenovo\\anaconda3\\envs\\tf-gpu\\lib\\site-packages (from openai->mitdeeplearning) (0.28.1)\n",
      "Requirement already satisfied: jiter<1,>=0.4.0 in c:\\users\\lenovo\\anaconda3\\envs\\tf-gpu\\lib\\site-packages (from openai->mitdeeplearning) (0.10.0)\n",
      "Requirement already satisfied: pydantic<3,>=1.9.0 in c:\\users\\lenovo\\anaconda3\\envs\\tf-gpu\\lib\\site-packages (from openai->mitdeeplearning) (2.11.7)\n",
      "Requirement already satisfied: sniffio in c:\\users\\lenovo\\anaconda3\\envs\\tf-gpu\\lib\\site-packages (from openai->mitdeeplearning) (1.3.1)\n",
      "Requirement already satisfied: exceptiongroup>=1.0.2 in c:\\users\\lenovo\\anaconda3\\envs\\tf-gpu\\lib\\site-packages (from anyio<5,>=3.5.0->openai->mitdeeplearning) (1.3.0)\n",
      "Requirement already satisfied: httpcore==1.* in c:\\users\\lenovo\\anaconda3\\envs\\tf-gpu\\lib\\site-packages (from httpx<1,>=0.23.0->openai->mitdeeplearning) (1.0.9)\n",
      "Requirement already satisfied: h11>=0.16 in c:\\users\\lenovo\\anaconda3\\envs\\tf-gpu\\lib\\site-packages (from httpcore==1.*->httpx<1,>=0.23.0->openai->mitdeeplearning) (0.16.0)\n",
      "Requirement already satisfied: annotated-types>=0.6.0 in c:\\users\\lenovo\\anaconda3\\envs\\tf-gpu\\lib\\site-packages (from pydantic<3,>=1.9.0->openai->mitdeeplearning) (0.7.0)\n",
      "Requirement already satisfied: pydantic-core==2.33.2 in c:\\users\\lenovo\\anaconda3\\envs\\tf-gpu\\lib\\site-packages (from pydantic<3,>=1.9.0->openai->mitdeeplearning) (2.33.2)\n",
      "Requirement already satisfied: typing-inspection>=0.4.0 in c:\\users\\lenovo\\anaconda3\\envs\\tf-gpu\\lib\\site-packages (from pydantic<3,>=1.9.0->openai->mitdeeplearning) (0.4.1)\n",
      "Requirement already satisfied: boto3-stubs>=1.34.110 in c:\\users\\lenovo\\anaconda3\\envs\\tf-gpu\\lib\\site-packages (from boto3-stubs[bedrock-runtime]>=1.34.110->opik->mitdeeplearning) (1.40.28)\n",
      "Requirement already satisfied: click in c:\\users\\lenovo\\anaconda3\\envs\\tf-gpu\\lib\\site-packages (from opik->mitdeeplearning) (8.2.1)\n",
      "Requirement already satisfied: rapidfuzz<4.0.0,>=3.0.0 in c:\\users\\lenovo\\anaconda3\\envs\\tf-gpu\\lib\\site-packages (from opik->mitdeeplearning) (3.14.1)\n",
      "Requirement already satisfied: litellm!=1.75.0,!=1.75.1,!=1.75.2,!=1.75.3,!=1.75.4,!=1.75.5 in c:\\users\\lenovo\\anaconda3\\envs\\tf-gpu\\lib\\site-packages (from opik->mitdeeplearning) (1.77.0)\n",
      "Requirement already satisfied: pydantic-settings!=2.9.0,<3.0.0,>=2.0.0 in c:\\users\\lenovo\\anaconda3\\envs\\tf-gpu\\lib\\site-packages (from opik->mitdeeplearning) (2.10.1)\n",
      "Requirement already satisfied: pytest in c:\\users\\lenovo\\anaconda3\\envs\\tf-gpu\\lib\\site-packages (from opik->mitdeeplearning) (8.4.2)\n",
      "Requirement already satisfied: rich in c:\\users\\lenovo\\anaconda3\\envs\\tf-gpu\\lib\\site-packages (from opik->mitdeeplearning) (14.0.0)\n",
      "Requirement already satisfied: sentry_sdk>=2.0.0 in c:\\users\\lenovo\\anaconda3\\envs\\tf-gpu\\lib\\site-packages (from opik->mitdeeplearning) (2.37.1)\n",
      "Requirement already satisfied: tenacity in c:\\users\\lenovo\\anaconda3\\envs\\tf-gpu\\lib\\site-packages (from opik->mitdeeplearning) (9.1.2)\n",
      "Requirement already satisfied: uuid6 in c:\\users\\lenovo\\anaconda3\\envs\\tf-gpu\\lib\\site-packages (from opik->mitdeeplearning) (2025.0.1)\n",
      "Requirement already satisfied: python-dotenv>=0.21.0 in c:\\users\\lenovo\\anaconda3\\envs\\tf-gpu\\lib\\site-packages (from pydantic-settings!=2.9.0,<3.0.0,>=2.0.0->opik->mitdeeplearning) (1.1.1)\n",
      "Requirement already satisfied: botocore-stubs in c:\\users\\lenovo\\anaconda3\\envs\\tf-gpu\\lib\\site-packages (from boto3-stubs>=1.34.110->boto3-stubs[bedrock-runtime]>=1.34.110->opik->mitdeeplearning) (1.40.28)\n",
      "Requirement already satisfied: types-s3transfer in c:\\users\\lenovo\\anaconda3\\envs\\tf-gpu\\lib\\site-packages (from boto3-stubs>=1.34.110->boto3-stubs[bedrock-runtime]>=1.34.110->opik->mitdeeplearning) (0.13.1)\n",
      "Requirement already satisfied: mypy-boto3-bedrock-runtime<1.41.0,>=1.40.0 in c:\\users\\lenovo\\anaconda3\\envs\\tf-gpu\\lib\\site-packages (from boto3-stubs[bedrock-runtime]>=1.34.110->opik->mitdeeplearning) (1.40.21)\n",
      "Requirement already satisfied: fastuuid>=0.12.0 in c:\\users\\lenovo\\anaconda3\\envs\\tf-gpu\\lib\\site-packages (from litellm!=1.75.0,!=1.75.1,!=1.75.2,!=1.75.3,!=1.75.4,!=1.75.5->opik->mitdeeplearning) (0.12.0)\n",
      "Requirement already satisfied: importlib-metadata>=6.8.0 in c:\\users\\lenovo\\anaconda3\\envs\\tf-gpu\\lib\\site-packages (from litellm!=1.75.0,!=1.75.1,!=1.75.2,!=1.75.3,!=1.75.4,!=1.75.5->opik->mitdeeplearning) (8.7.0)\n",
      "Requirement already satisfied: jsonschema<5.0.0,>=4.22.0 in c:\\users\\lenovo\\anaconda3\\envs\\tf-gpu\\lib\\site-packages (from litellm!=1.75.0,!=1.75.1,!=1.75.2,!=1.75.3,!=1.75.4,!=1.75.5->opik->mitdeeplearning) (4.25.1)\n",
      "Requirement already satisfied: tiktoken>=0.7.0 in c:\\users\\lenovo\\anaconda3\\envs\\tf-gpu\\lib\\site-packages (from litellm!=1.75.0,!=1.75.1,!=1.75.2,!=1.75.3,!=1.75.4,!=1.75.5->opik->mitdeeplearning) (0.11.0)\n",
      "Requirement already satisfied: tokenizers in c:\\users\\lenovo\\anaconda3\\envs\\tf-gpu\\lib\\site-packages (from litellm!=1.75.0,!=1.75.1,!=1.75.2,!=1.75.3,!=1.75.4,!=1.75.5->opik->mitdeeplearning) (0.22.0)\n",
      "Requirement already satisfied: jsonschema-specifications>=2023.03.6 in c:\\users\\lenovo\\anaconda3\\envs\\tf-gpu\\lib\\site-packages (from jsonschema<5.0.0,>=4.22.0->litellm!=1.75.0,!=1.75.1,!=1.75.2,!=1.75.3,!=1.75.4,!=1.75.5->opik->mitdeeplearning) (2025.9.1)\n",
      "Requirement already satisfied: referencing>=0.28.4 in c:\\users\\lenovo\\anaconda3\\envs\\tf-gpu\\lib\\site-packages (from jsonschema<5.0.0,>=4.22.0->litellm!=1.75.0,!=1.75.1,!=1.75.2,!=1.75.3,!=1.75.4,!=1.75.5->opik->mitdeeplearning) (0.36.2)\n",
      "Requirement already satisfied: rpds-py>=0.7.1 in c:\\users\\lenovo\\anaconda3\\envs\\tf-gpu\\lib\\site-packages (from jsonschema<5.0.0,>=4.22.0->litellm!=1.75.0,!=1.75.1,!=1.75.2,!=1.75.3,!=1.75.4,!=1.75.5->opik->mitdeeplearning) (0.27.1)\n",
      "Requirement already satisfied: zipp>=3.20 in c:\\users\\lenovo\\anaconda3\\envs\\tf-gpu\\lib\\site-packages (from importlib-metadata>=6.8.0->litellm!=1.75.0,!=1.75.1,!=1.75.2,!=1.75.3,!=1.75.4,!=1.75.5->opik->mitdeeplearning) (3.22.0)\n",
      "Requirement already satisfied: types-awscrt in c:\\users\\lenovo\\anaconda3\\envs\\tf-gpu\\lib\\site-packages (from botocore-stubs->boto3-stubs>=1.34.110->boto3-stubs[bedrock-runtime]>=1.34.110->opik->mitdeeplearning) (0.27.6)\n",
      "Requirement already satisfied: python-dateutil>=2.8.2 in c:\\users\\lenovo\\anaconda3\\envs\\tf-gpu\\lib\\site-packages (from pandas->datasets->mitdeeplearning) (2.9.0.post0)\n",
      "Requirement already satisfied: pytz>=2020.1 in c:\\users\\lenovo\\anaconda3\\envs\\tf-gpu\\lib\\site-packages (from pandas->datasets->mitdeeplearning) (2025.2)\n",
      "Requirement already satisfied: tzdata>=2022.7 in c:\\users\\lenovo\\anaconda3\\envs\\tf-gpu\\lib\\site-packages (from pandas->datasets->mitdeeplearning) (2025.2)\n",
      "Requirement already satisfied: six>=1.5 in c:\\users\\lenovo\\anaconda3\\envs\\tf-gpu\\lib\\site-packages (from python-dateutil>=2.8.2->pandas->datasets->mitdeeplearning) (1.17.0)\n",
      "Requirement already satisfied: psutil in c:\\users\\lenovo\\anaconda3\\envs\\tf-gpu\\lib\\site-packages (from peft->mitdeeplearning) (7.0.0)\n",
      "Requirement already satisfied: accelerate>=0.21.0 in c:\\users\\lenovo\\anaconda3\\envs\\tf-gpu\\lib\\site-packages (from peft->mitdeeplearning) (1.10.1)\n",
      "Requirement already satisfied: safetensors in c:\\users\\lenovo\\anaconda3\\envs\\tf-gpu\\lib\\site-packages (from peft->mitdeeplearning) (0.6.2)\n",
      "Requirement already satisfied: iniconfig>=1 in c:\\users\\lenovo\\anaconda3\\envs\\tf-gpu\\lib\\site-packages (from pytest->opik->mitdeeplearning) (2.1.0)\n",
      "Requirement already satisfied: pluggy<2,>=1.5 in c:\\users\\lenovo\\anaconda3\\envs\\tf-gpu\\lib\\site-packages (from pytest->opik->mitdeeplearning) (1.6.0)\n",
      "Requirement already satisfied: pygments>=2.7.2 in c:\\users\\lenovo\\anaconda3\\envs\\tf-gpu\\lib\\site-packages (from pytest->opik->mitdeeplearning) (2.19.1)\n",
      "Requirement already satisfied: tomli>=1 in c:\\users\\lenovo\\anaconda3\\envs\\tf-gpu\\lib\\site-packages (from pytest->opik->mitdeeplearning) (2.2.1)\n",
      "Requirement already satisfied: markdown-it-py>=2.2.0 in c:\\users\\lenovo\\anaconda3\\envs\\tf-gpu\\lib\\site-packages (from rich->opik->mitdeeplearning) (3.0.0)\n",
      "Requirement already satisfied: mdurl~=0.1 in c:\\users\\lenovo\\anaconda3\\envs\\tf-gpu\\lib\\site-packages (from markdown-it-py>=2.2.0->rich->opik->mitdeeplearning) (0.1.2)\n"
     ]
    },
    {
     "name": "stderr",
     "output_type": "stream",
     "text": [
      "'apt-get' is not recognized as an internal or external command,\n",
      "operable program or batch file.\n"
     ]
    }
   ],
   "source": [
    "# !pip install comet_ml \n",
    "# > /dev/null 2>&1\n",
    "import comet_ml\n",
    "# TODO: ENTER YOUR API KEY HERE!! instructions above\n",
    "COMET_API_KEY = \"API COMET KALIAN\" # TODO (5)\n",
    "\n",
    "# Import Tensorflow 2.0\n",
    "import tensorflow as tf\n",
    "\n",
    "# Download and import the MIT Introduction to Deep Learning package\n",
    "!pip install setuptools==65.5.0 packaging==21.3\n",
    "!pip install mitdeeplearning \n",
    "# !pip install git+https://github.com/aamini/introtodeeplearning.git\n",
    "\n",
    "import mitdeeplearning as mdl\n",
    "\n",
    "# Import all remaining packages\n",
    "import numpy as np\n",
    "import os\n",
    "import time\n",
    "import functools\n",
    "from IPython import display as ipythondisplay\n",
    "from tqdm import tqdm\n",
    "from scipy.io.wavfile import write\n",
    "!apt-get install abcmidi timidity\n",
    "\n",
    "\n",
    "# Check that we are using a GPU, if not switch runtimes\n",
    "#   using Runtime > Change Runtime Type > GPU\n",
    "# assert len(tf.config.list_physical_devices('GPU')) > 0\n",
    "# assert COMET_API_KEY != \"\", \"Please insert your Comet API Key\""
   ]
  },
  {
   "cell_type": "code",
   "execution_count": 9,
   "metadata": {},
   "outputs": [],
   "source": [
    "gpus = tf.config.experimental.list_physical_devices('GPU')\n",
    "if gpus:\n",
    "    try:\n",
    "        for gpu in gpus:\n",
    "            tf.config.experimental.set_memory_growth(gpu, True)\n",
    "    except RuntimeError as e:\n",
    "        print(e)"
   ]
  },
  {
   "cell_type": "markdown",
   "metadata": {
    "id": "_ajvp0No4qDm"
   },
   "source": [
    "## 2.2 Dataset\n",
    "\n",
    "Kita telah mengumpulkan sebuah dataset yang berisi ribuan lagu rakyat Irlandia, yang dituliskan dalam notasi ABC.  \n",
    "Mari kita unduh dataset tersebut dan memeriksanya lebih lanjut:\n"
   ]
  },
  {
   "cell_type": "code",
   "execution_count": 10,
   "metadata": {
    "id": "P7dFnP5q3Jve"
   },
   "outputs": [
    {
     "name": "stdout",
     "output_type": "stream",
     "text": [
      "Found 817 songs in text\n",
      "\n",
      "Contoh lagu: \n",
      "X:1\n",
      "T:Alexander's\n",
      "Z: id:dc-hornpipe-1\n",
      "M:C|\n",
      "L:1/8\n",
      "K:D Major\n",
      "(3ABc|dAFA DFAd|fdcd FAdf|gfge fefd|(3efe (3dcB A2 (3ABc|!\n",
      "dAFA DFAd|fdcd FAdf|gfge fefd|(3efe dc d2:|!\n",
      "AG|FAdA FAdA|GBdB GBdB|Acec Acec|dfaf gecA|!\n",
      "FAdA FAdA|GBdB GBdB|Aceg fefd|(3efe dc d2:|!\n"
     ]
    }
   ],
   "source": [
    "# Unduh dataset lagu dalam format notasi ABC\n",
    "songs = mdl.lab1.load_training_data()\n",
    "\n",
    "# Ambil salah satu contoh lagu dari dataset untuk diperiksa lebih detail\n",
    "example_song = songs[0]\n",
    "print(\"\\nContoh lagu: \")\n",
    "print(example_song)"
   ]
  },
  {
   "cell_type": "markdown",
   "metadata": {
    "id": "hKF3EHJlCAj2"
   },
   "source": [
    "Kita dapat dengan mudah mengonversi sebuah lagu dalam notasi ABC menjadi bentuk gelombang audio dan memutarnya kembali. Harap bersabar saat proses konversi berlangsung, karena dapat memerlukan waktu tertentu."
   ]
  },
  {
   "cell_type": "code",
   "execution_count": 11,
   "metadata": {
    "id": "11toYzhEEKDz"
   },
   "outputs": [],
   "source": [
    "# Konversi lagu dari notasi ABC ke file audio, lalu mainkan hasilnya\n",
    "mdl.lab1.play_song(example_song)"
   ]
  },
  {
   "cell_type": "markdown",
   "metadata": {
    "id": "7vH24yyquwKQ"
   },
   "source": [
    "Satu hal penting yang perlu dipikirkan adalah bahwa notasi musik ini tidak hanya berisi informasi tentang nada yang dimainkan, tetapi juga memiliki **meta-informasi** seperti judul lagu, kunci (key), dan tempo.  \n",
    "\n",
    "Bagaimana jumlah karakter berbeda yang muncul dalam file teks memengaruhi tingkat kompleksitas masalah pembelajaran?  \n",
    "Hal ini akan menjadi penting nantinya, ketika kita membuat representasi numerik untuk data teks tersebut.\n"
   ]
  },
  {
   "cell_type": "code",
   "execution_count": 12,
   "metadata": {
    "id": "IlCgQBRVymwR"
   },
   "outputs": [
    {
     "name": "stdout",
     "output_type": "stream",
     "text": [
      "Jumlah karakter unik dalam dataset: 83\n"
     ]
    }
   ],
   "source": [
    "# Gabungkan semua lagu menjadi satu string besar (dipisahkan dengan newline ganda)\n",
    "songs_joined = \"\\n\\n\".join(songs)\n",
    "\n",
    "# Cari semua karakter unik yang muncul di seluruh dataset (vocabulary)\n",
    "vocab = sorted(set(songs_joined))\n",
    "print(\"Jumlah karakter unik dalam dataset:\", len(vocab))"
   ]
  },
  {
   "cell_type": "markdown",
   "metadata": {
    "id": "rNnrKn_lL-IJ"
   },
   "source": [
    "## 2.3 Pemrosesan Dataset untuk Tugas Pembelajaran\n",
    "\n",
    "Mari kita mundur sedikit dan pikirkan tentang tugas prediksi kita.  \n",
    "Kita ingin melatih model RNN untuk mempelajari pola dalam musik ABC, lalu menggunakan model ini untuk menghasilkan (memprediksi) potongan musik baru berdasarkan informasi yang telah dipelajari.\n",
    "\n",
    "Jika diuraikan, pertanyaan yang kita ajukan ke model adalah:  \n",
    "dengan diberikan sebuah karakter, atau urutan karakter, karakter apa yang paling mungkin muncul berikutnya?  \n",
    "Kita akan melatih model untuk melakukan tugas ini.\n",
    "\n",
    "Untuk mencapainya, kita akan memasukkan sebuah urutan karakter ke dalam model, lalu melatih model agar mampu memprediksi keluaran, yaitu karakter berikutnya di setiap langkah waktu.  \n",
    "RNN menyimpan **state internal** yang bergantung pada elemen-elemen sebelumnya, sehingga informasi dari semua karakter yang sudah dilihat hingga suatu titik waktu tertentu akan dipertimbangkan dalam menghasilkan prediksi."
   ]
  },
  {
   "cell_type": "markdown",
   "metadata": {
    "id": "LFjSVAlWzf-N"
   },
   "source": [
    "### Vektorisasi Teks\n",
    "\n",
    "Sebelum kita mulai melatih model RNN, kita perlu membuat representasi numerik dari dataset berbasis teks kita.  \n",
    "Untuk melakukan ini, kita akan membuat dua tabel pencarian (*lookup tables*):  \n",
    "1. tabel yang memetakan karakter ke angka, dan  \n",
    "2. tabel yang memetakan angka kembali ke karakter.  \n",
    "\n",
    "Ingat bahwa sebelumnya kita sudah mengidentifikasi karakter-karakter unik yang ada di dalam teks."
   ]
  },
  {
   "cell_type": "code",
   "execution_count": 13,
   "metadata": {
    "id": "IalZLbvOzf-F"
   },
   "outputs": [],
   "source": [
    "### Definisikan representasi numerik dari teks ###\n",
    "\n",
    "# Buat mapping dari karakter → indeks unik.\n",
    "# Contoh: untuk mendapatkan indeks dari karakter \"d\",\n",
    "#   gunakan `char2idx[\"d\"]`.\n",
    "char2idx = {u: i for i, u in enumerate(vocab)}\n",
    "\n",
    "# Buat mapping dari indeks → karakter (kebalikan dari char2idx).\n",
    "# Ini berguna untuk mengonversi kembali dari angka ke karakter.\n",
    "idx2char = np.array(vocab)"
   ]
  },
  {
   "cell_type": "markdown",
   "metadata": {
    "id": "tZfqhkYCymwX"
   },
   "source": [
    "Ini memberikan kita representasi integer untuk setiap karakter.  \n",
    "Perhatikan bahwa karakter-karakter unik (yaitu *vocabulary* kita) pada teks dipetakan sebagai indeks dari 0 hingga `len(unique)`.  \n",
    "\n",
    "Sekarang, mari kita lihat sekilas representasi numerik dari dataset kita:"
   ]
  },
  {
   "cell_type": "code",
   "execution_count": 14,
   "metadata": {
    "id": "FYyNlCNXymwY"
   },
   "outputs": [
    {
     "name": "stdout",
     "output_type": "stream",
     "text": [
      "{\n",
      "  '\\n':   0,\n",
      "  ' ' :   1,\n",
      "  '!' :   2,\n",
      "  '\"' :   3,\n",
      "  '#' :   4,\n",
      "  \"'\" :   5,\n",
      "  '(' :   6,\n",
      "  ')' :   7,\n",
      "  ',' :   8,\n",
      "  '-' :   9,\n",
      "  '.' :  10,\n",
      "  '/' :  11,\n",
      "  '0' :  12,\n",
      "  '1' :  13,\n",
      "  '2' :  14,\n",
      "  '3' :  15,\n",
      "  '4' :  16,\n",
      "  '5' :  17,\n",
      "  '6' :  18,\n",
      "  '7' :  19,\n",
      "  ...\n",
      "}\n"
     ]
    }
   ],
   "source": [
    "print('{')\n",
    "for char,_ in zip(char2idx, range(20)):\n",
    "    print('  {:4s}: {:3d},'.format(repr(char), char2idx[char]))\n",
    "print('  ...\\n}')"
   ]
  },
  {
   "cell_type": "code",
   "execution_count": 15,
   "metadata": {
    "id": "g-LnKyu4dczc"
   },
   "outputs": [],
   "source": [
    "### Vektorisasi string lagu ###\n",
    "\n",
    "# Fungsi untuk mengonversi string lagu (berisi karakter notasi ABC)\n",
    "# menjadi representasi numerik. \n",
    "# Setiap karakter dipetakan ke indeks unik menggunakan char2idx.\n",
    "# Output: np.array dengan panjang N, \n",
    "#   di mana N = jumlah karakter dalam string input.\n",
    "def vectorize_string(string):\n",
    "    vectorized_output = np.array([char2idx[char] for char in string])\n",
    "    return vectorized_output\n",
    "\n",
    "# Contoh: vektorisasi semua lagu yang sudah digabung\n",
    "vectorized_songs = vectorize_string(songs_joined)"
   ]
  },
  {
   "cell_type": "markdown",
   "metadata": {
    "id": "IqxpSuZ1w-ub"
   },
   "source": [
    "Kita juga dapat melihat bagaimana bagian awal dari teks dipetakan ke dalam representasi integer:"
   ]
  },
  {
   "cell_type": "code",
   "execution_count": 16,
   "metadata": {
    "id": "l1VKcQHcymwb"
   },
   "outputs": [
    {
     "name": "stdout",
     "output_type": "stream",
     "text": [
      "'X:1\\nT:Alex' ---- karakter dipetakan ke angka ----> [49 22 13  0 45 22 26 67 60 79]\n"
     ]
    }
   ],
   "source": [
    "# Cetak 10 karakter pertama dari dataset beserta representasi angkanya\n",
    "print('{} ---- karakter dipetakan ke angka ----> {}'.format(\n",
    "    repr(songs_joined[:10]), vectorized_songs[:10]\n",
    "))\n",
    "\n",
    "# Pastikan hasil vektorisasi berupa numpy array\n",
    "assert isinstance(vectorized_songs, np.ndarray), \"Hasil yang dikembalikan harus berupa numpy array\""
   ]
  },
  {
   "cell_type": "markdown",
   "metadata": {
    "id": "hgsVvVxnymwf"
   },
   "source": [
    "### Membuat Contoh Latihan dan Target\n",
    "\n",
    "Langkah selanjutnya adalah membagi teks menjadi **urutan contoh** yang akan digunakan selama pelatihan.  \n",
    "Setiap urutan input yang dimasukkan ke dalam RNN akan berisi `seq_length` karakter dari teks.  \n",
    "Kita juga perlu mendefinisikan urutan target untuk setiap input, yang akan digunakan untuk melatih RNN agar mampu memprediksi karakter berikutnya.  \n",
    "\n",
    "Untuk setiap input, target yang sesuai akan memiliki panjang teks yang sama, tetapi digeser satu karakter ke kanan.  \n",
    "\n",
    "Caranya adalah dengan membagi teks menjadi potongan (*chunks*) sepanjang `seq_length+1`.  \n",
    "Misalnya, jika `seq_length = 4` dan teks kita adalah `\"Hello\"`, maka:  \n",
    "- urutan input = `\"Hell\"`  \n",
    "- urutan target = `\"ello\"`  \n",
    "\n",
    "Metode *batch* kemudian memungkinkan kita untuk mengonversi aliran indeks karakter ini menjadi urutan-urutan dengan ukuran yang diinginkan."
   ]
  },
  {
   "cell_type": "code",
   "execution_count": 17,
   "metadata": {
    "id": "LF-N8F7BoDRi"
   },
   "outputs": [
    {
     "name": "stdout",
     "output_type": "stream",
     "text": [
      "[PASS] test_batch_func_types\n",
      "[PASS] test_batch_func_shapes\n",
      "[PASS] test_batch_func_next_step\n",
      "======\n",
      "[PASS] Fungsi batch berhasil lolos semua pengujian!\n"
     ]
    }
   ],
   "source": [
    "### Definisi fungsi batch untuk membuat contoh latihan ###\n",
    "\n",
    "def get_batch(vectorized_songs, seq_length, batch_size):\n",
    "    # Panjang total data (dikurangi 1 karena target digeser 1 langkah)\n",
    "    n = vectorized_songs.shape[0] - 1\n",
    "\n",
    "    # Pilih indeks awal secara acak untuk setiap contoh dalam batch\n",
    "    idx = np.random.choice(n - seq_length, batch_size)\n",
    "\n",
    "    # Buat daftar input sequence untuk batch (masing-masing sepanjang seq_length)\n",
    "    input_batch = [vectorized_songs[i : i + seq_length] for i in idx]\n",
    "\n",
    "    # Buat daftar target sequence (digeser 1 karakter ke kanan)\n",
    "    output_batch = [vectorized_songs[i + 1 : i + seq_length + 1] for i in idx]\n",
    "\n",
    "    # Bentuk akhir x_batch dan y_batch agar sesuai untuk training\n",
    "    x_batch = np.reshape(input_batch, [batch_size, seq_length])\n",
    "    y_batch = np.reshape(output_batch, [batch_size, seq_length])\n",
    "    return x_batch, y_batch\n",
    "\n",
    "\n",
    "# Uji fungsi batch dengan argumen sederhana\n",
    "test_args = (vectorized_songs, 10, 2)\n",
    "if not mdl.lab1.test_batch_func_types(get_batch, test_args) or \\\n",
    "   not mdl.lab1.test_batch_func_shapes(get_batch, test_args) or \\\n",
    "   not mdl.lab1.test_batch_func_next_step(get_batch, test_args):\n",
    "   print(\"======\\n[FAIL] Fungsi batch tidak lolos pengujian\")\n",
    "else:\n",
    "   print(\"======\\n[PASS] Fungsi batch berhasil lolos semua pengujian!\")"
   ]
  },
  {
   "cell_type": "markdown",
   "metadata": {
    "id": "_33OHL3b84i0"
   },
   "source": [
    "Untuk setiap vektor, setiap indeks diproses pada satu langkah waktu (*time step*).  \n",
    "Jadi, pada input di *time step* ke-0, model menerima indeks dari karakter pertama dalam urutan, lalu mencoba memprediksi indeks karakter berikutnya.  \n",
    "\n",
    "Pada *time step* berikutnya, model melakukan hal yang sama, tetapi RNN juga mempertimbangkan informasi dari langkah sebelumnya, yaitu **state** yang telah diperbarui, selain input saat ini.  \n",
    "\n",
    "Kita bisa membuat ini lebih konkret dengan melihat bagaimana proses ini bekerja pada beberapa karakter pertama dalam teks kita:"
   ]
  },
  {
   "cell_type": "code",
   "execution_count": 18,
   "metadata": {
    "id": "0eBu9WZG84i0"
   },
   "outputs": [
    {
     "name": "stdout",
     "output_type": "stream",
     "text": [
      "Step   0\n",
      "  input: 60 (np.str_('e'))\n",
      "  expected output: 59 (np.str_('d'))\n",
      "Step   1\n",
      "  input: 59 (np.str_('d'))\n",
      "  expected output: 1 (np.str_(' '))\n",
      "Step   2\n",
      "  input: 1 (np.str_(' '))\n",
      "  expected output: 61 (np.str_('f'))\n",
      "Step   3\n",
      "  input: 61 (np.str_('f'))\n",
      "  expected output: 56 (np.str_('a'))\n",
      "Step   4\n",
      "  input: 56 (np.str_('a'))\n",
      "  expected output: 61 (np.str_('f'))\n"
     ]
    }
   ],
   "source": [
    "x_batch, y_batch = get_batch(vectorized_songs, seq_length=5, batch_size=1)\n",
    "\n",
    "for i, (input_idx, target_idx) in enumerate(zip(np.squeeze(x_batch), np.squeeze(y_batch))):\n",
    "    print(\"Step {:3d}\".format(i))\n",
    "    print(\"  input: {} ({:s})\".format(input_idx, repr(idx2char[input_idx])))\n",
    "    print(\"  expected output: {} ({:s})\".format(target_idx, repr(idx2char[target_idx])))"
   ]
  },
  {
   "cell_type": "markdown",
   "metadata": {
    "id": "r6oUuElIMgVx"
   },
   "source": [
    "## 2.4 Model Recurrent Neural Network (RNN)"
   ]
  },
  {
   "cell_type": "markdown",
   "metadata": {
    "id": "m8gPwEjRzf-Z"
   },
   "source": [
    "Sekarang kita siap untuk mendefinisikan dan melatih model RNN pada dataset musik ABC kita, lalu menggunakan model terlatih tersebut untuk menghasilkan lagu baru.  \n",
    "Kita akan melatih RNN menggunakan *batch* potongan lagu dari dataset, yang sudah kita buat pada bagian sebelumnya.\n",
    "\n",
    "Model ini berbasis pada arsitektur **LSTM**, di mana kita menggunakan sebuah **state vector** untuk menyimpan informasi tentang hubungan temporal antar karakter berurutan.  \n",
    "Output akhir dari LSTM kemudian dimasukkan ke dalam lapisan terhubung penuh ([`Dense`](https://www.tensorflow.org/api_docs/python/tf/keras/layers/Dense)), yang menghasilkan distribusi *softmax* atas setiap karakter dalam *vocabulary*. Dari distribusi ini, kita dapat melakukan *sampling* untuk memprediksi karakter berikutnya.\n",
    "\n",
    "Seperti yang sudah diperkenalkan di bagian pertama lab ini, kita akan menggunakan **Keras API**, khususnya [`tf.keras.Sequential`](https://www.tensorflow.org/api_docs/python/tf/keras/models/Sequential), untuk mendefinisikan model.  \n",
    "Model ini terdiri dari tiga lapisan utama:\n",
    "\n",
    "* [`tf.keras.layers.Embedding`](https://www.tensorflow.org/api_docs/python/tf/keras/layers/Embedding): Lapisan input berupa tabel pencarian yang dapat dilatih (*trainable lookup table*), memetakan setiap karakter (dalam bentuk angka) ke vektor dengan dimensi `embedding_dim`.\n",
    "* [`tf.keras.layers.LSTM`](https://www.tensorflow.org/api_docs/python/tf/keras/layers/LSTM): Jaringan LSTM dengan ukuran `units=rnn_units`.\n",
    "* [`tf.keras.layers.Dense`](https://www.tensorflow.org/api_docs/python/tf/keras/layers/Dense): Lapisan output dengan jumlah neuron = `vocab_size`, menghasilkan prediksi untuk setiap karakter.\n",
    "\n",
    "<img src=\"https://raw.githubusercontent.com/MITDeepLearning/introtodeeplearning/2019/lab1/img/lstm_unrolled-01-01.png\" alt=\"Ilustrasi LSTM\"/>\n"
   ]
  },
  {
   "cell_type": "markdown",
   "metadata": {
    "id": "rlaOqndqBmJo"
   },
   "source": [
    "### Mendefinisikan Model RNN\n",
    "\n",
    "Sekarang, kita akan membuat sebuah fungsi yang akan digunakan untuk membangun model tersebut."
   ]
  },
  {
   "cell_type": "code",
   "execution_count": 19,
   "metadata": {
    "id": "8DsWzojvkbc7"
   },
   "outputs": [],
   "source": [
    "def LSTM(rnn_units):\n",
    "  return tf.keras.layers.LSTM(\n",
    "    rnn_units,\n",
    "    return_sequences=True,\n",
    "    recurrent_initializer='glorot_uniform',\n",
    "    recurrent_activation='sigmoid',\n",
    "    stateful=True,\n",
    "  )"
   ]
  },
  {
   "cell_type": "markdown",
   "metadata": {
    "id": "IbWU4dMJmMvq"
   },
   "source": [
    "Sudah tiba saatnya! Lengkapi bagian `TODOs` untuk mendefinisikan model RNN di dalam fungsi `build_model`, kemudian panggil fungsi yang baru saja Anda definisikan tersebut untuk membuat instance model!"
   ]
  },
  {
   "cell_type": "code",
   "execution_count": null,
   "metadata": {
    "id": "MtCrdfzEI2N0"
   },
   "outputs": [],
   "source": [
    "### Mendefinisikan Model RNN ###\n",
    "\n",
    "'''Tambahkan layer LSTM dan Dense untuk mendefinisikan model RNN menggunakan Sequential API.'''\n",
    "def build_model(vocab_size, embedding_dim, rnn_units, batch_size):\n",
    "  model = tf.keras.Sequential([\n",
    "    # Layer 1: Embedding layer untuk mengubah indeks menjadi vektor padat\n",
    "    #   dengan ukuran embedding yang tetap\n",
    "    tf.keras.layers.Embedding(vocab_size, embedding_dim),\n",
    "\n",
    "    # Layer 2: LSTM dengan jumlah unit sebanyak `rnn_units`.\n",
    "    # TODO: Panggil fungsi LSTM yang telah didefinisikan di atas untuk menambahkan layer ini. (10)\n",
    "    LSTM(____),\n",
    "\n",
    "    # Layer 3: Dense (fully-connected) layer yang mengubah output LSTM\n",
    "    #   menjadi ukuran kosakata.\n",
    "    # TODO: Tambahkan layer Dense. (5)\n",
    "    tf.keras.layers.____(vocab_size)\n",
    "  ])\n",
    "\n",
    "  return model\n",
    "\n",
    "# Membangun model sederhana dengan hiperparameter bawaan.\n",
    "#   Anda akan mendapatkan kesempatan untuk mengubahnya nanti.\n",
    "model = build_model(len(vocab), embedding_dim=256, rnn_units=1024, batch_size=32)\n",
    "model.build(tf.TensorShape([32, 100]))  # [batch_size, sequence_length]\n"
   ]
  },
  {
   "cell_type": "markdown",
   "metadata": {
    "id": "-ubPo0_9Prjb"
   },
   "source": [
    "### Menguji Model RNN\n",
    "\n",
    "Selalu merupakan praktik yang baik untuk menjalankan beberapa pemeriksaan sederhana pada model kita untuk memastikan bahwa model berperilaku sesuai dengan yang diharapkan.  \n",
    "\n",
    "Pertama, kita dapat menggunakan fungsi `Model.summary` untuk menampilkan ringkasan mengenai cara kerja internal model.  \n",
    "Di sini kita dapat memeriksa layer-layer dalam model, bentuk (shape) keluaran dari setiap layer, ukuran batch, dan sebagainya.\n"
   ]
  },
  {
   "cell_type": "code",
   "execution_count": 21,
   "metadata": {
    "id": "RwG1DD6rDrRM"
   },
   "outputs": [
    {
     "data": {
      "text/html": [
       "<pre style=\"white-space:pre;overflow-x:auto;line-height:normal;font-family:Menlo,'DejaVu Sans Mono',consolas,'Courier New',monospace\"><span style=\"font-weight: bold\">Model: \"sequential\"</span>\n",
       "</pre>\n"
      ],
      "text/plain": [
       "\u001b[1mModel: \"sequential\"\u001b[0m\n"
      ]
     },
     "metadata": {},
     "output_type": "display_data"
    },
    {
     "data": {
      "text/html": [
       "<pre style=\"white-space:pre;overflow-x:auto;line-height:normal;font-family:Menlo,'DejaVu Sans Mono',consolas,'Courier New',monospace\">┏━━━━━━━━━━━━━━━━━━━━━━━━━━━━━━━━━┳━━━━━━━━━━━━━━━━━━━━━━━━┳━━━━━━━━━━━━━━━┓\n",
       "┃<span style=\"font-weight: bold\"> Layer (type)                    </span>┃<span style=\"font-weight: bold\"> Output Shape           </span>┃<span style=\"font-weight: bold\">       Param # </span>┃\n",
       "┡━━━━━━━━━━━━━━━━━━━━━━━━━━━━━━━━━╇━━━━━━━━━━━━━━━━━━━━━━━━╇━━━━━━━━━━━━━━━┩\n",
       "│ embedding (<span style=\"color: #0087ff; text-decoration-color: #0087ff\">Embedding</span>)           │ (<span style=\"color: #00af00; text-decoration-color: #00af00\">32</span>, <span style=\"color: #00af00; text-decoration-color: #00af00\">100</span>, <span style=\"color: #00af00; text-decoration-color: #00af00\">256</span>)         │        <span style=\"color: #00af00; text-decoration-color: #00af00\">21,248</span> │\n",
       "├─────────────────────────────────┼────────────────────────┼───────────────┤\n",
       "│ lstm (<span style=\"color: #0087ff; text-decoration-color: #0087ff\">LSTM</span>)                     │ (<span style=\"color: #00af00; text-decoration-color: #00af00\">32</span>, <span style=\"color: #00af00; text-decoration-color: #00af00\">100</span>, <span style=\"color: #00af00; text-decoration-color: #00af00\">1024</span>)        │     <span style=\"color: #00af00; text-decoration-color: #00af00\">5,246,976</span> │\n",
       "├─────────────────────────────────┼────────────────────────┼───────────────┤\n",
       "│ dense (<span style=\"color: #0087ff; text-decoration-color: #0087ff\">Dense</span>)                   │ (<span style=\"color: #00af00; text-decoration-color: #00af00\">32</span>, <span style=\"color: #00af00; text-decoration-color: #00af00\">100</span>, <span style=\"color: #00af00; text-decoration-color: #00af00\">83</span>)          │        <span style=\"color: #00af00; text-decoration-color: #00af00\">85,075</span> │\n",
       "└─────────────────────────────────┴────────────────────────┴───────────────┘\n",
       "</pre>\n"
      ],
      "text/plain": [
       "┏━━━━━━━━━━━━━━━━━━━━━━━━━━━━━━━━━┳━━━━━━━━━━━━━━━━━━━━━━━━┳━━━━━━━━━━━━━━━┓\n",
       "┃\u001b[1m \u001b[0m\u001b[1mLayer (type)                   \u001b[0m\u001b[1m \u001b[0m┃\u001b[1m \u001b[0m\u001b[1mOutput Shape          \u001b[0m\u001b[1m \u001b[0m┃\u001b[1m \u001b[0m\u001b[1m      Param #\u001b[0m\u001b[1m \u001b[0m┃\n",
       "┡━━━━━━━━━━━━━━━━━━━━━━━━━━━━━━━━━╇━━━━━━━━━━━━━━━━━━━━━━━━╇━━━━━━━━━━━━━━━┩\n",
       "│ embedding (\u001b[38;5;33mEmbedding\u001b[0m)           │ (\u001b[38;5;34m32\u001b[0m, \u001b[38;5;34m100\u001b[0m, \u001b[38;5;34m256\u001b[0m)         │        \u001b[38;5;34m21,248\u001b[0m │\n",
       "├─────────────────────────────────┼────────────────────────┼───────────────┤\n",
       "│ lstm (\u001b[38;5;33mLSTM\u001b[0m)                     │ (\u001b[38;5;34m32\u001b[0m, \u001b[38;5;34m100\u001b[0m, \u001b[38;5;34m1024\u001b[0m)        │     \u001b[38;5;34m5,246,976\u001b[0m │\n",
       "├─────────────────────────────────┼────────────────────────┼───────────────┤\n",
       "│ dense (\u001b[38;5;33mDense\u001b[0m)                   │ (\u001b[38;5;34m32\u001b[0m, \u001b[38;5;34m100\u001b[0m, \u001b[38;5;34m83\u001b[0m)          │        \u001b[38;5;34m85,075\u001b[0m │\n",
       "└─────────────────────────────────┴────────────────────────┴───────────────┘\n"
      ]
     },
     "metadata": {},
     "output_type": "display_data"
    },
    {
     "data": {
      "text/html": [
       "<pre style=\"white-space:pre;overflow-x:auto;line-height:normal;font-family:Menlo,'DejaVu Sans Mono',consolas,'Courier New',monospace\"><span style=\"font-weight: bold\"> Total params: </span><span style=\"color: #00af00; text-decoration-color: #00af00\">5,353,299</span> (20.42 MB)\n",
       "</pre>\n"
      ],
      "text/plain": [
       "\u001b[1m Total params: \u001b[0m\u001b[38;5;34m5,353,299\u001b[0m (20.42 MB)\n"
      ]
     },
     "metadata": {},
     "output_type": "display_data"
    },
    {
     "data": {
      "text/html": [
       "<pre style=\"white-space:pre;overflow-x:auto;line-height:normal;font-family:Menlo,'DejaVu Sans Mono',consolas,'Courier New',monospace\"><span style=\"font-weight: bold\"> Trainable params: </span><span style=\"color: #00af00; text-decoration-color: #00af00\">5,353,299</span> (20.42 MB)\n",
       "</pre>\n"
      ],
      "text/plain": [
       "\u001b[1m Trainable params: \u001b[0m\u001b[38;5;34m5,353,299\u001b[0m (20.42 MB)\n"
      ]
     },
     "metadata": {},
     "output_type": "display_data"
    },
    {
     "data": {
      "text/html": [
       "<pre style=\"white-space:pre;overflow-x:auto;line-height:normal;font-family:Menlo,'DejaVu Sans Mono',consolas,'Courier New',monospace\"><span style=\"font-weight: bold\"> Non-trainable params: </span><span style=\"color: #00af00; text-decoration-color: #00af00\">0</span> (0.00 B)\n",
       "</pre>\n"
      ],
      "text/plain": [
       "\u001b[1m Non-trainable params: \u001b[0m\u001b[38;5;34m0\u001b[0m (0.00 B)\n"
      ]
     },
     "metadata": {},
     "output_type": "display_data"
    }
   ],
   "source": [
    "model.summary()"
   ]
  },
  {
   "cell_type": "markdown",
   "metadata": {
    "id": "8xeDn5nZD0LX"
   },
   "source": [
    "Kita juga dapat dengan cepat memeriksa dimensi keluaran dengan menggunakan panjang sekuens sebesar 100. Perlu dicatat bahwa model dapat dijalankan pada masukan dengan panjang berapa pun."
   ]
  },
  {
   "cell_type": "code",
   "execution_count": 22,
   "metadata": {
    "id": "C-_70kKAPrPU"
   },
   "outputs": [
    {
     "name": "stdout",
     "output_type": "stream",
     "text": [
      "Input shape:       (32, 100)  # (batch_size, sequence_length)\n",
      "Prediction shape:  (32, 100, 83) # (batch_size, sequence_length, vocab_size)\n"
     ]
    }
   ],
   "source": [
    "x, y = get_batch(vectorized_songs, seq_length=100, batch_size=32)\n",
    "pred = model(x)\n",
    "print(\"Input shape:      \", x.shape, \" # (batch_size, sequence_length)\")\n",
    "print(\"Prediction shape: \", pred.shape, \"# (batch_size, sequence_length, vocab_size)\")"
   ]
  },
  {
   "cell_type": "markdown",
   "metadata": {
    "id": "mT1HvFVUGpoE"
   },
   "source": [
    "### Prediksi dari Model yang Belum Dilatih\n",
    "\n",
    "Mari kita lihat apa yang diprediksi oleh model yang belum dilatih.  \n",
    "\n",
    "Untuk memperoleh prediksi aktual dari model, kita melakukan *sampling* dari distribusi keluaran yang didefinisikan oleh `softmax` pada kosakata karakter. Proses ini akan menghasilkan indeks karakter yang sebenarnya. Dengan kata lain, kita menggunakan [distribusi kategorikal](https://en.wikipedia.org/wiki/Categorical_distribution) untuk melakukan *sampling* pada contoh prediksi. Hasilnya berupa prediksi karakter berikutnya (khususnya indeksnya) pada setiap langkah waktu (*timestep*).  \n",
    "\n",
    "Perlu dicatat bahwa kita melakukan *sampling* dari distribusi probabilitas ini, bukan sekadar mengambil nilai `argmax`, karena pendekatan tersebut dapat menyebabkan model terjebak dalam perulangan.  \n",
    "\n",
    "Mari kita coba melakukan *sampling* ini pada contoh pertama dalam *batch*.\n"
   ]
  },
  {
   "cell_type": "code",
   "execution_count": 23,
   "metadata": {
    "id": "4V4MfFg0RQJg"
   },
   "outputs": [
    {
     "data": {
      "text/plain": [
       "array([ 5,  3, 51, 79, 42, 29, 47, 55, 35, 53, 57, 82,  9, 52, 26, 25, 71,\n",
       "       70, 76, 13, 24, 54, 72, 79, 18, 70, 74, 66, 34, 18, 80, 11, 36, 66,\n",
       "       75, 69, 72, 73, 47, 46, 56,  6,  7, 61,  5, 22, 69, 55, 19, 19, 77,\n",
       "       80, 79, 64, 24, 45, 48, 59, 51, 46, 41, 52,  0, 66, 78, 18, 18, 13,\n",
       "        8, 49, 81,  4, 78, 45, 70, 39, 27, 34, 27, 17, 69,  7, 40, 66, 23,\n",
       "       48, 19, 59, 26,  8, 14, 20,  3, 14,  3, 71, 36, 47, 17, 43])"
      ]
     },
     "execution_count": 23,
     "metadata": {},
     "output_type": "execute_result"
    }
   ],
   "source": [
    "sampled_indices = tf.random.categorical(pred[0], num_samples=1)\n",
    "sampled_indices = tf.squeeze(sampled_indices,axis=-1).numpy()\n",
    "sampled_indices"
   ]
  },
  {
   "cell_type": "markdown",
   "metadata": {
    "id": "LfLtsP3mUhCG"
   },
   "source": [
    "Kita sekarang dapat melakukan proses decode untuk melihat teks yang diprediksi oleh model yang belum dilatih:"
   ]
  },
  {
   "cell_type": "code",
   "execution_count": 24,
   "metadata": {
    "id": "xWcFwPwLSo05"
   },
   "outputs": [
    {
     "name": "stdout",
     "output_type": "stream",
     "text": [
      "Input: \n",
      " ' DGBG|AcBG AGEG|DGG2 DGBd|edgd edge|!\\ndBB2 dBGB|cEE2 GEDB,|DEGA B3c|dBAc BGG:|!\\nB|d2e^c d2Bd|edgd ed'\n",
      "\n",
      "Next Char Predictions: \n",
      " '\\'\"ZxQDV_J]b|-[A>pou1=^qx6oskI6y/KktnqrVUa()f\\':n_77vyxi=TWdZUP[\\nkw661,Xz#wToNBIB5n)Ok<W7dA,28\"2\"pKV5R'\n"
     ]
    }
   ],
   "source": [
    "print(\"Input: \\n\", repr(\"\".join(idx2char[x[0]])))\n",
    "print()\n",
    "print(\"Next Char Predictions: \\n\", repr(\"\".join(idx2char[sampled_indices])))"
   ]
  },
  {
   "cell_type": "markdown",
   "metadata": {
    "id": "HEHHcRasIDm9"
   },
   "source": [
    "Seperti yang dapat dilihat, teks yang diprediksi oleh model yang belum dilatih masih tidak bermakna. Bagaimana cara memperbaikinya? Kita dapat melatih jaringan tersebut!"
   ]
  },
  {
   "cell_type": "markdown",
   "metadata": {
    "id": "LJL0Q0YPY6Ee"
   },
   "source": [
    "## 2.5 Melatih Model: Loss dan Operasi Pelatihan\n",
    "\n",
    "Sekarang saatnya untuk melatih model!  \n",
    "\n",
    "Pada tahap ini, permasalahan prediksi karakter berikutnya dapat dipandang sebagai masalah klasifikasi standar. Berdasarkan keadaan sebelumnya dari RNN, serta masukan pada suatu langkah waktu tertentu, tujuan kita adalah memprediksi kelas dari karakter berikutnya — yaitu benar-benar memprediksi karakter selanjutnya.  \n",
    "\n",
    "Untuk melatih model pada tugas klasifikasi ini, kita dapat menggunakan bentuk *loss* `crossentropy` (negative log likelihood loss). Secara khusus, kita akan menggunakan [`sparse_categorical_crossentropy`](https://www.tensorflow.org/api_docs/python/tf/keras/losses/sparse_categorical_crossentropy), karena fungsi ini memanfaatkan target berupa bilangan bulat untuk tugas klasifikasi kategorikal. Kita perlu menghitung *loss* dengan menggunakan target sebenarnya (*labels*) dan target hasil prediksi (*logits*).  \n",
    "\n",
    "Mari terlebih dahulu menghitung *loss* menggunakan prediksi contoh dari model yang belum dilatih:\n"
   ]
  },
  {
   "cell_type": "code",
   "execution_count": null,
   "metadata": {
    "id": "4HrXTACTdzY-"
   },
   "outputs": [
    {
     "name": "stdout",
     "output_type": "stream",
     "text": [
      "Prediction shape:  (32, 100, 83)  # (batch_size, sequence_length, vocab_size)\n",
      "scalar_loss:       4.4178457\n"
     ]
    }
   ],
   "source": [
    "### Mendefinisikan Fungsi Loss ###\n",
    "\n",
    "'''TODO: definisikan fungsi loss untuk menghitung dan mengembalikan nilai loss \n",
    "    antara label sebenarnya (true labels) dan prediksi (logits). \n",
    "    Atur argumen from_logits=True.'''\n",
    "def compute_loss(labels, logits):\n",
    "  loss = tf.keras.losses.sparse_categorical_crossentropy(____, ____, from_logits=True) # TODO (10)\n",
    "  return loss\n",
    "\n",
    "'''TODO: hitung nilai loss dengan menggunakan karakter sebenarnya berikutnya \n",
    "    dari batch contoh dan prediksi dari model yang belum dilatih \n",
    "    (yang didefinisikan beberapa sel sebelumnya).'''\n",
    "example_batch_loss = compute_loss(____, ____) # TODO (10)\n",
    "\n",
    "print(\"Prediction shape: \", pred.shape, \" # (batch_size, sequence_length, vocab_size)\")\n",
    "print(\"scalar_loss:      \", example_batch_loss.numpy().mean())\n"
   ]
  },
  {
   "cell_type": "markdown",
   "metadata": {
    "id": "0Seh7e6eRqd7"
   },
   "source": [
    "Marilah kita mulai dengan mendefinisikan beberapa hiperparameter untuk melatih model. Sebagai awal, telah disediakan beberapa nilai yang cukup masuk akal untuk sejumlah parameter. Selanjutnya, Anda dapat menggunakan apa yang telah dipelajari di kelas untuk membantu mengoptimalkan pemilihan parameter di sini!"
   ]
  },
  {
   "cell_type": "code",
   "execution_count": null,
   "metadata": {
    "id": "JQWUUhKotkAY"
   },
   "outputs": [],
   "source": [
    "### Pengaturan dan Optimisasi Hiperparameter ###\n",
    "\n",
    "vocab_size = len(vocab)\n",
    "\n",
    "# Parameter model:\n",
    "params = dict(\n",
    "  num_training_iterations = 3000,  # Tingkatkan nilai ini untuk waktu pelatihan yang lebih lama\n",
    "  batch_size = 8,                  # Bereksperimenlah antara 1 hingga 64\n",
    "  seq_length = 100,                # Bereksperimenlah antara 50 hingga 500\n",
    "  learning_rate = 5e-3,            # Bereksperimenlah antara 1e-5 hingga 1e-1\n",
    "  embedding_dim = 256,\n",
    "  rnn_units = 1024,                # Bereksperimenlah antara 1 hingga 2048\n",
    ")\n",
    "\n",
    "# Lokasi checkpoint:\n",
    "checkpoint_dir = './training_checkpoints'\n",
    "checkpoint_prefix = os.path.join(checkpoint_dir, \"my_ckpt.weights.h5\")\n",
    "os.makedirs(checkpoint_dir, exist_ok=True)\n"
   ]
  },
  {
   "cell_type": "markdown",
   "metadata": {
    "id": "AyLzIPeAIqfg"
   },
   "source": [
    "Setelah mendefinisikan hiperparameter, kita dapat menyiapkan *experiment tracking* dengan **Comet**.  \n",
    "Objek [`Experiment`](https://www.comet.com/docs/v2/api-and-sdk/python-sdk/reference/Experiment/) merupakan objek inti dalam Comet dan memungkinkan kita untuk melacak proses pelatihan serta pengembangan model.  \n",
    "\n",
    "Di sini telah dituliskan sebuah fungsi singkat untuk membuat *experiment* baru di Comet.  \n",
    "Perlu dicatat bahwa dalam pengaturan ini, ketika hiperparameter berubah, Anda dapat menjalankan fungsi `create_experiment()` untuk memulai *experiment* baru.  \n",
    "\n",
    "Seluruh *experiment* yang didefinisikan dengan `project_name` yang sama akan berada di bawah proyek tersebut dalam antarmuka Comet Anda.\n"
   ]
  },
  {
   "cell_type": "code",
   "execution_count": null,
   "metadata": {
    "id": "MBsN1vvxInmN"
   },
   "outputs": [],
   "source": [
    "### Membuat Eksperimen Comet untuk Melacak Proses Pelatihan ###\n",
    "\n",
    "def create_experiment():\n",
    "  # Akhiri eksperimen sebelumnya (jika ada)\n",
    "  if 'experiment' in locals():\n",
    "    experiment.end()\n",
    "\n",
    "  # Inisialisasi eksperimen Comet untuk pelacakan\n",
    "  experiment = comet_ml.Experiment(\n",
    "                  api_key=COMET_API_KEY,\n",
    "                  project_name=\"6S191_Lab1_Part2\")\n",
    "  \n",
    "  # Catat (log) hiperparameter yang telah didefinisikan di atas ke dalam eksperimen\n",
    "  for param, value in params.items():\n",
    "    experiment.log_parameter(param, value)\n",
    "  experiment.flush()\n",
    "\n",
    "  return experiment\n"
   ]
  },
  {
   "cell_type": "markdown",
   "metadata": {
    "id": "5cu11p1MKYZd"
   },
   "source": [
    "Sekarang, kita siap untuk mendefinisikan operasi pelatihan — yaitu *optimizer* dan durasi pelatihan — serta menggunakan fungsi ini untuk melatih model.  \n",
    "Anda akan melakukan eksperimen dengan memilih jenis *optimizer* dan menentukan durasi pelatihan model, kemudian mengamati bagaimana perubahan tersebut memengaruhi keluaran jaringan. Beberapa *optimizer* yang dapat dicoba antara lain [`Adam`](https://www.tensorflow.org/api_docs/python/tf/keras/optimizers/Adam?version=stable) dan [`Adagrad`](https://www.tensorflow.org/api_docs/python/tf/keras/optimizers/Adagrad?version=stable).  \n",
    "\n",
    "Pertama, kita akan membuat (*instantiate*) model baru dan sebuah *optimizer*.  \n",
    "Selanjutnya, kita akan menggunakan metode [`tf.GradientTape`](https://www.tensorflow.org/api_docs/python/tf/GradientTape) untuk melakukan operasi *backpropagation*.  \n",
    "\n",
    "Selain itu, kita juga akan menghasilkan keluaran berupa cetakan (print-out) dari progres model selama pelatihan, yang akan membantu dalam memvisualisasikan apakah *loss* benar-benar menurun atau tidak.\n"
   ]
  },
  {
   "cell_type": "code",
   "execution_count": null,
   "metadata": {
    "id": "F31vzJ_u66cb"
   },
   "outputs": [
    {
     "data": {
      "image/png": "[encoded data removed]",
      "text/plain": [
       "<Figure size 640x480 with 1 Axes>"
      ]
     },
     "metadata": {},
     "output_type": "display_data"
    },
    {
     "name": "stderr",
     "output_type": "stream",
     "text": [
      "100%|██████████| 3000/3000 [17:47<00:00,  2.81it/s]\n"
     ]
    },
    {
     "data": {
      "text/plain": [
       "True"
      ]
     },
     "execution_count": 28,
     "metadata": {},
     "output_type": "execute_result"
    },
    {
     "data": {
      "image/png": "[encoded data removed]",
      "text/plain": [
       "<Figure size 640x480 with 1 Axes>"
      ]
     },
     "metadata": {},
     "output_type": "display_data"
    }
   ],
   "source": [
    "### Mendefinisikan Optimizer dan Operasi Pelatihan ###\n",
    "\n",
    "'''TODO: buat instance model baru untuk pelatihan menggunakan fungsi `build_model`\n",
    "  serta hiperparameter yang telah didefinisikan di atas.'''\n",
    "model = build_model(vocab_size, params[\"____\"], params[\"____\"], params[\"____\"]) #TODO (10)\n",
    "\n",
    "'''TODO: buat instance optimizer beserta nilai learning rate-nya.\n",
    "  Lihat situs resmi TensorFlow untuk daftar optimizer yang didukung:\n",
    "  https://www.tensorflow.org/api_docs/python/tf/keras/optimizers/\n",
    "  Cobalah menggunakan Adam optimizer sebagai permulaan.'''\n",
    "optimizer = tf.keras.optimizers.Adam(params[\"____\"]) # optimizer = # TODO (5)\n",
    "\n",
    "\n",
    "@tf.function\n",
    "def train_step(x, y):\n",
    "  # Gunakan tf.GradientTape()\n",
    "  with tf.GradientTape() as tape:\n",
    "\n",
    "    '''TODO: masukkan input saat ini ke dalam model dan hasilkan prediksi'''\n",
    "    y_hat = model(____) # TODO (10)\n",
    "\n",
    "    '''TODO: hitung nilai loss!'''\n",
    "    loss = compute_loss(____, ____) # TODO (10)\n",
    "\n",
    "  # Sekarang, hitung gradien\n",
    "  '''TODO: lengkapi pemanggilan fungsi untuk menghitung gradien.\n",
    "      Ingat bahwa gradien yang dihitung adalah gradien loss terhadap\n",
    "      seluruh parameter model.\n",
    "      PETUNJUK: gunakan `model.trainable_variables` untuk mendapatkan\n",
    "      daftar semua parameter model.'''\n",
    "  grads = tape.gradient(____, ____) # TODO (10)\n",
    "\n",
    "  # Terapkan gradien pada optimizer agar bobot model dapat diperbarui\n",
    "  optimizer.apply_gradients(zip(grads, model.trainable_variables))\n",
    "  return loss\n",
    "\n",
    "##################\n",
    "# Mulai Pelatihan!#\n",
    "##################\n",
    "\n",
    "history = []\n",
    "plotter = mdl.util.PeriodicPlotter(sec=2, xlabel='Iterations', ylabel='Loss')\n",
    "experiment = create_experiment()\n",
    "\n",
    "if hasattr(tqdm, '_instances'): tqdm._instances.clear() # hapus jika sudah ada\n",
    "for iter in tqdm(range(params[\"num_training_iterations\"])):\n",
    "\n",
    "  # Ambil satu batch dan propagasikan melalui jaringan\n",
    "  x_batch, y_batch = get_batch(vectorized_songs, params[\"seq_length\"], params[\"batch_size\"])\n",
    "  loss = train_step(x_batch, y_batch)\n",
    "\n",
    "  # Catat nilai loss ke antarmuka Comet agar dapat dilacak\n",
    "  experiment.log_metric(\"loss\", loss.numpy().mean(), step=iter)\n",
    "  \n",
    "  # Perbarui progress bar sekaligus visualisasi dalam notebook\n",
    "  history.append(loss.numpy().mean())\n",
    "  plotter.plot(history)\n",
    "\n",
    "  # Simpan bobot model secara berkala\n",
    "  if iter % 100 == 0:\n",
    "    model.save_weights(checkpoint_prefix)\n",
    "\n",
    "# Simpan model yang sudah dilatih beserta bobotnya\n",
    "model.save_weights(checkpoint_prefix)\n",
    "experiment.flush()\n"
   ]
  },
  {
   "cell_type": "markdown",
   "metadata": {
    "id": "kKkD5M6eoSiN"
   },
   "source": [
    "## 2.6 Menghasilkan Musik Menggunakan Model RNN\n",
    "\n",
    "Sekarang, kita dapat menggunakan model RNN yang telah dilatih untuk menghasilkan musik!  \n",
    "Dalam proses menghasilkan musik, kita perlu memberikan model sebuah *seed* sebagai titik awal (karena model tidak dapat memprediksi apa pun tanpa input awal).  \n",
    "\n",
    "Setelah memiliki *seed* tersebut, kita kemudian dapat secara iteratif memprediksi setiap karakter berikutnya (ingat, kita menggunakan representasi ABC untuk musik). Lebih spesifiknya, perlu diingat bahwa RNN menghasilkan keluaran berupa `softmax` atas kemungkinan karakter selanjutnya. Untuk keperluan *inference*, kita melakukan *sampling* secara iteratif dari distribusi tersebut, lalu menggunakan hasil *sampling* untuk menyusun sebuah lagu dalam format ABC.  \n",
    "\n",
    "Langkah terakhir adalah menuliskannya ke dalam sebuah berkas dan mendengarkannya!\n"
   ]
  },
  {
   "cell_type": "markdown",
   "metadata": {
    "id": "JIPcXllKjkdr"
   },
   "source": [
    "### Memulihkan Checkpoint Terbaru\n",
    "\n",
    "Untuk menyederhanakan langkah *inference* ini, kita akan menggunakan ukuran *batch* sebesar 1.  \n",
    "Karena cara RNN meneruskan *state* dari satu *timestep* ke *timestep* berikutnya, model hanya dapat menerima ukuran *batch* yang tetap setelah dibangun.  \n",
    "\n",
    "Untuk menjalankan model dengan `batch_size` yang berbeda, kita perlu membangun ulang model dan memulihkan bobot dari *checkpoint* terbaru, yaitu bobot setelah *checkpoint* terakhir selama proses pelatihan.\n"
   ]
  },
  {
   "cell_type": "code",
   "execution_count": null,
   "metadata": {
    "id": "LycQ-ot_jjyu"
   },
   "outputs": [
    {
     "data": {
      "text/html": [
       "<pre style=\"white-space:pre;overflow-x:auto;line-height:normal;font-family:Menlo,'DejaVu Sans Mono',consolas,'Courier New',monospace\"><span style=\"font-weight: bold\">Model: \"sequential_2\"</span>\n",
       "</pre>\n"
      ],
      "text/plain": [
       "\u001b[1mModel: \"sequential_2\"\u001b[0m\n"
      ]
     },
     "metadata": {},
     "output_type": "display_data"
    },
    {
     "data": {
      "text/html": [
       "<pre style=\"white-space:pre;overflow-x:auto;line-height:normal;font-family:Menlo,'DejaVu Sans Mono',consolas,'Courier New',monospace\">┏━━━━━━━━━━━━━━━━━━━━━━━━━━━━━━━━━┳━━━━━━━━━━━━━━━━━━━━━━━━┳━━━━━━━━━━━━━━━┓\n",
       "┃<span style=\"font-weight: bold\"> Layer (type)                    </span>┃<span style=\"font-weight: bold\"> Output Shape           </span>┃<span style=\"font-weight: bold\">       Param # </span>┃\n",
       "┡━━━━━━━━━━━━━━━━━━━━━━━━━━━━━━━━━╇━━━━━━━━━━━━━━━━━━━━━━━━╇━━━━━━━━━━━━━━━┩\n",
       "│ embedding_2 (<span style=\"color: #0087ff; text-decoration-color: #0087ff\">Embedding</span>)         │ (<span style=\"color: #00af00; text-decoration-color: #00af00\">1</span>, <span style=\"color: #00d7ff; text-decoration-color: #00d7ff\">None</span>, <span style=\"color: #00af00; text-decoration-color: #00af00\">256</span>)         │        <span style=\"color: #00af00; text-decoration-color: #00af00\">21,248</span> │\n",
       "├─────────────────────────────────┼────────────────────────┼───────────────┤\n",
       "│ lstm_2 (<span style=\"color: #0087ff; text-decoration-color: #0087ff\">LSTM</span>)                   │ (<span style=\"color: #00af00; text-decoration-color: #00af00\">1</span>, <span style=\"color: #00d7ff; text-decoration-color: #00d7ff\">None</span>, <span style=\"color: #00af00; text-decoration-color: #00af00\">1024</span>)        │     <span style=\"color: #00af00; text-decoration-color: #00af00\">5,246,976</span> │\n",
       "├─────────────────────────────────┼────────────────────────┼───────────────┤\n",
       "│ dense_2 (<span style=\"color: #0087ff; text-decoration-color: #0087ff\">Dense</span>)                 │ (<span style=\"color: #00af00; text-decoration-color: #00af00\">1</span>, <span style=\"color: #00d7ff; text-decoration-color: #00d7ff\">None</span>, <span style=\"color: #00af00; text-decoration-color: #00af00\">83</span>)          │        <span style=\"color: #00af00; text-decoration-color: #00af00\">85,075</span> │\n",
       "└─────────────────────────────────┴────────────────────────┴───────────────┘\n",
       "</pre>\n"
      ],
      "text/plain": [
       "┏━━━━━━━━━━━━━━━━━━━━━━━━━━━━━━━━━┳━━━━━━━━━━━━━━━━━━━━━━━━┳━━━━━━━━━━━━━━━┓\n",
       "┃\u001b[1m \u001b[0m\u001b[1mLayer (type)                   \u001b[0m\u001b[1m \u001b[0m┃\u001b[1m \u001b[0m\u001b[1mOutput Shape          \u001b[0m\u001b[1m \u001b[0m┃\u001b[1m \u001b[0m\u001b[1m      Param #\u001b[0m\u001b[1m \u001b[0m┃\n",
       "┡━━━━━━━━━━━━━━━━━━━━━━━━━━━━━━━━━╇━━━━━━━━━━━━━━━━━━━━━━━━╇━━━━━━━━━━━━━━━┩\n",
       "│ embedding_2 (\u001b[38;5;33mEmbedding\u001b[0m)         │ (\u001b[38;5;34m1\u001b[0m, \u001b[38;5;45mNone\u001b[0m, \u001b[38;5;34m256\u001b[0m)         │        \u001b[38;5;34m21,248\u001b[0m │\n",
       "├─────────────────────────────────┼────────────────────────┼───────────────┤\n",
       "│ lstm_2 (\u001b[38;5;33mLSTM\u001b[0m)                   │ (\u001b[38;5;34m1\u001b[0m, \u001b[38;5;45mNone\u001b[0m, \u001b[38;5;34m1024\u001b[0m)        │     \u001b[38;5;34m5,246,976\u001b[0m │\n",
       "├─────────────────────────────────┼────────────────────────┼───────────────┤\n",
       "│ dense_2 (\u001b[38;5;33mDense\u001b[0m)                 │ (\u001b[38;5;34m1\u001b[0m, \u001b[38;5;45mNone\u001b[0m, \u001b[38;5;34m83\u001b[0m)          │        \u001b[38;5;34m85,075\u001b[0m │\n",
       "└─────────────────────────────────┴────────────────────────┴───────────────┘\n"
      ]
     },
     "metadata": {},
     "output_type": "display_data"
    },
    {
     "data": {
      "text/html": [
       "<pre style=\"white-space:pre;overflow-x:auto;line-height:normal;font-family:Menlo,'DejaVu Sans Mono',consolas,'Courier New',monospace\"><span style=\"font-weight: bold\"> Total params: </span><span style=\"color: #00af00; text-decoration-color: #00af00\">5,353,299</span> (20.42 MB)\n",
       "</pre>\n"
      ],
      "text/plain": [
       "\u001b[1m Total params: \u001b[0m\u001b[38;5;34m5,353,299\u001b[0m (20.42 MB)\n"
      ]
     },
     "metadata": {},
     "output_type": "display_data"
    },
    {
     "data": {
      "text/html": [
       "<pre style=\"white-space:pre;overflow-x:auto;line-height:normal;font-family:Menlo,'DejaVu Sans Mono',consolas,'Courier New',monospace\"><span style=\"font-weight: bold\"> Trainable params: </span><span style=\"color: #00af00; text-decoration-color: #00af00\">5,353,299</span> (20.42 MB)\n",
       "</pre>\n"
      ],
      "text/plain": [
       "\u001b[1m Trainable params: \u001b[0m\u001b[38;5;34m5,353,299\u001b[0m (20.42 MB)\n"
      ]
     },
     "metadata": {},
     "output_type": "display_data"
    },
    {
     "data": {
      "text/html": [
       "<pre style=\"white-space:pre;overflow-x:auto;line-height:normal;font-family:Menlo,'DejaVu Sans Mono',consolas,'Courier New',monospace\"><span style=\"font-weight: bold\"> Non-trainable params: </span><span style=\"color: #00af00; text-decoration-color: #00af00\">0</span> (0.00 B)\n",
       "</pre>\n"
      ],
      "text/plain": [
       "\u001b[1m Non-trainable params: \u001b[0m\u001b[38;5;34m0\u001b[0m (0.00 B)\n"
      ]
     },
     "metadata": {},
     "output_type": "display_data"
    }
   ],
   "source": [
    "'''TODO: Bangun ulang model dengan batch_size=1'''\n",
    "model = build_model(vocab_size, params[\"____\"], params[\"____\"], batch_size=1) # TODO (10)\n",
    "\n",
    "# Pulihkan bobot model dari checkpoint terakhir setelah pelatihan\n",
    "model.build(tf.TensorShape([1, None]))\n",
    "model.load_weights(checkpoint_prefix)\n",
    "\n",
    "model.summary()\n"
   ]
  },
  {
   "cell_type": "markdown",
   "metadata": {
    "id": "I9b4V2C8N62l"
   },
   "source": [
    "Perhatikan bahwa kita telah memberikan `batch_size` tetap sebesar 1 untuk proses *inference*.\n"
   ]
  },
  {
   "cell_type": "markdown",
   "metadata": {
    "id": "DjGz1tDkzf-u"
   },
   "source": [
    "### Prosedur Prediksi\n",
    "\n",
    "Sekarang, kita siap menulis kode untuk menghasilkan teks dalam format musik ABC:\n",
    "\n",
    "* Inisialisasi string awal sebagai *seed* dan state RNN, serta tentukan jumlah karakter yang ingin kita hasilkan.\n",
    "\n",
    "* Gunakan string awal dan state RNN untuk memperoleh distribusi probabilitas atas karakter berikutnya yang diprediksi.\n",
    "\n",
    "* Lakukan *sampling* dari distribusi multinomial untuk menghitung indeks dari karakter yang diprediksi. Karakter hasil prediksi ini kemudian digunakan sebagai input berikutnya ke model.\n",
    "\n",
    "* Pada setiap langkah waktu (*time step*), state RNN yang telah diperbarui dimasukkan kembali ke dalam model, sehingga model memiliki lebih banyak konteks dalam membuat prediksi selanjutnya. Setelah memprediksi karakter berikutnya, state RNN yang telah diperbarui kembali dimasukkan ke dalam model. Inilah cara model mempelajari ketergantungan urutan dalam data, karena ia mendapatkan lebih banyak informasi dari prediksi sebelumnya.\n",
    "\n",
    "![LSTM inference](https://raw.githubusercontent.com/MITDeepLearning/introtodeeplearning/2019/lab1/img/lstm_inference.png)\n",
    "\n",
    "Lengkapi dan bereksperimenlah dengan blok kode ini (serta beberapa aspek dari definisi jaringan dan pelatihan!), lalu amati bagaimana kinerja model. Bagaimana perbandingan lagu yang dihasilkan setelah pelatihan dengan jumlah epoch yang sedikit dibandingkan dengan pelatihan dalam durasi lebih lama?\n"
   ]
  },
  {
   "cell_type": "code",
   "execution_count": null,
   "metadata": {
    "id": "WvuwZBX5Ogfd"
   },
   "outputs": [],
   "source": [
    "### Prediksi sebuah lagu yang dihasilkan ###\n",
    "\n",
    "def generate_text(model, start_string, generation_length=1000, temperature=1.0):\n",
    "    \"\"\"\n",
    "    Menghasilkan teks ABC dari model RNN yang sudah dilatih.\n",
    "\n",
    "    Args:\n",
    "        model: model tf.keras yang menghasilkan logits atas kosakata.\n",
    "        start_string: string awal sebagai seed (misalnya, \"X\").\n",
    "        generation_length: jumlah karakter baru yang ingin dihasilkan.\n",
    "        temperature: suhu sampling (>0). Semakin rendah = semakin greedy.\n",
    "\n",
    "    Membutuhkan dictionary global:\n",
    "        char2idx: {karakter -> int}\n",
    "        idx2char: np.array/list mapping int -> karakter\n",
    "    \"\"\"\n",
    "\n",
    "    # 1) Vektorisasi seed\n",
    "    input_eval = tf.expand_dims([char2idx[c] for c in start_string], 0)  # bentuk [1, panjang_seed]\n",
    "\n",
    "    # 2) Reset state jika model memiliki lapisan RNN stateful\n",
    "    for layer in getattr(model, \"layers\", []):\n",
    "        if hasattr(layer, \"reset_states\"):\n",
    "            layer.reset_states()\n",
    "\n",
    "    text_generated = []\n",
    "\n",
    "    # 3) Loop generasi\n",
    "    tqdm._instances.clear()\n",
    "    for _ in tqdm(range(generation_length)):\n",
    "        # Forward pass: logits atas vocab untuk setiap time step dalam sequence\n",
    "        logits = model(input_eval)                  # [1, T, vocab] atau [1, vocab] tergantung model\n",
    "        if logits.shape.rank == 3:\n",
    "            logits = logits[:, -1, :]               # ambil time step terakhir -> [1, vocab]\n",
    "\n",
    "        # Sampling token berikutnya dari distribusi kategorikal (logits / temperature)\n",
    "        logits = logits / max(temperature, 1e-6)    # hindari pembagian dengan nol\n",
    "        next_id = tf.random.categorical(logits, num_samples=1)[-1, 0].numpy()\n",
    "\n",
    "        # Tambahkan karakter hasil prediksi\n",
    "        text_generated.append(idx2char[next_id])\n",
    "\n",
    "        # Input berikutnya adalah id hasil prediksi (batch size = 1)\n",
    "        input_eval = tf.expand_dims([next_id], 0)\n",
    "\n",
    "    return start_string + \"\".join(text_generated)\n"
   ]
  },
  {
   "cell_type": "code",
   "execution_count": null,
   "metadata": {
    "id": "ktovv0RFhrkn"
   },
   "outputs": [
    {
     "name": "stderr",
     "output_type": "stream",
     "text": [
      "100%|██████████| 1000/1000 [00:10<00:00, 93.82it/s]\n"
     ]
    }
   ],
   "source": [
    "'''TODO: Gunakan model dan fungsi yang telah didefinisikan di atas untuk menghasilkan teks format ABC dengan panjang 1000!\n",
    "    Seperti yang mungkin kamu perhatikan, file ABC selalu diawali dengan \"X\" - ini bisa menjadi start string yang bagus.'''\n",
    "generated_text = generate_text(____, start_string=\"X\", generation_length=1000) # TODO (5)"
   ]
  },
  {
   "cell_type": "code",
   "execution_count": 32,
   "metadata": {},
   "outputs": [
    {
     "data": {
      "text/plain": [
       "<function __main__.generate_text(model, start_string, generation_length=1000, temperature=1.0)>"
      ]
     },
     "execution_count": 32,
     "metadata": {},
     "output_type": "execute_result"
    }
   ],
   "source": [
    "generate_text"
   ]
  },
  {
   "cell_type": "markdown",
   "metadata": {
    "id": "AM2Uma_-yVIq"
   },
   "source": [
    "### Putar musik yang dihasilkan!  \n",
    "\n",
    "Sekarang kita dapat memanggil sebuah fungsi untuk mengonversi teks dalam format ABC menjadi file audio, lalu memutarnya kembali untuk mendengarkan musik yang telah dihasilkan!  \n",
    "Coba latih model lebih lama jika lagu yang dihasilkan terasa kurang panjang, atau lakukan regenerasi lagu!  \n",
    "\n",
    "Kita juga akan menyimpan lagu tersebut ke Comet -- kamu bisa menemukan lagu-lagu yang tersimpan di halaman `Audio` dan `Assets & Artifacts` pada antarmuka Comet untuk proyek ini.  \n",
    "Perhatikan dokumentasi [`log_asset()`](https://www.comet.com/docs/v2/api-and-sdk/python-sdk/reference/Experiment/#experimentlog_asset), di mana dijelaskan cara menentukan nama file serta parameter lain untuk menyimpan asetmu."
   ]
  },
  {
   "cell_type": "code",
   "execution_count": null,
   "metadata": {
    "id": "LrOtG64bfLto"
   },
   "outputs": [
    {
     "name": "stdout",
     "output_type": "stream",
     "text": [
      "Found 2 songs in text\n"
     ]
    }
   ],
   "source": [
    "### Memutar lagu yang dihasilkan ###\n",
    "\n",
    "generated_songs = mdl.lab1.extract_song_snippet(generated_text)\n",
    "\n",
    "for i, song in enumerate(generated_songs):\n",
    "  # Mensintesis gelombang suara dari sebuah lagu\n",
    "  waveform = mdl.lab1.play_song(song)\n",
    "\n",
    "  # Jika lagunya valid (sintaks benar), mari kita putar!\n",
    "  if waveform:\n",
    "    print(\"Lagu yang dihasilkan\", i)\n",
    "    ipythondisplay.display(waveform)\n",
    "\n",
    "    numeric_data = np.frombuffer(waveform.data, dtype=np.int16)\n",
    "    wav_file_path = f\"output_{i}.wav\"\n",
    "    write(wav_file_path, 88200, numeric_data)\n",
    "\n",
    "    # Simpan lagumu ke antarmuka Comet -- kamu bisa mengaksesnya di sana\n",
    "    experiment.log_asset(wav_file_path)"
   ]
  },
  {
   "cell_type": "code",
   "execution_count": null,
   "metadata": {
    "id": "4353qSV76gnJ"
   },
   "outputs": [
    {
     "name": "stderr",
     "output_type": "stream",
     "text": [
      "\u001b[1;38;5;39mCOMET INFO:\u001b[0m ---------------------------------------------------------------------------------------\n",
      "\u001b[1;38;5;39mCOMET INFO:\u001b[0m Comet.ml Experiment Summary\n",
      "\u001b[1;38;5;39mCOMET INFO:\u001b[0m ---------------------------------------------------------------------------------------\n",
      "\u001b[1;38;5;39mCOMET INFO:\u001b[0m   Data:\n",
      "\u001b[1;38;5;39mCOMET INFO:\u001b[0m     display_summary_level : 1\n",
      "\u001b[1;38;5;39mCOMET INFO:\u001b[0m     name                  : suspicious_haddock_3197\n",
      "\u001b[1;38;5;39mCOMET INFO:\u001b[0m     url                   : https://www.comet.com/tokseka-uajy/6s191-lab1-part2/27b93f0b7f7b42a7b024d3794945553f\n",
      "\u001b[1;38;5;39mCOMET INFO:\u001b[0m   Metrics [count] (min, max):\n",
      "\u001b[1;38;5;39mCOMET INFO:\u001b[0m     loss [3000] : (0.6995535492897034, 5.527125358581543)\n",
      "\u001b[1;38;5;39mCOMET INFO:\u001b[0m   Parameters:\n",
      "\u001b[1;38;5;39mCOMET INFO:\u001b[0m     batch_size              : 8\n",
      "\u001b[1;38;5;39mCOMET INFO:\u001b[0m     embedding_dim           : 256\n",
      "\u001b[1;38;5;39mCOMET INFO:\u001b[0m     learning_rate           : 0.005\n",
      "\u001b[1;38;5;39mCOMET INFO:\u001b[0m     num_training_iterations : 3000\n",
      "\u001b[1;38;5;39mCOMET INFO:\u001b[0m     rnn_units               : 1024\n",
      "\u001b[1;38;5;39mCOMET INFO:\u001b[0m     seq_length              : 100\n",
      "\u001b[1;38;5;39mCOMET INFO:\u001b[0m   Uploads:\n",
      "\u001b[1;38;5;39mCOMET INFO:\u001b[0m     environment details : 1\n",
      "\u001b[1;38;5;39mCOMET INFO:\u001b[0m     filename            : 1\n",
      "\u001b[1;38;5;39mCOMET INFO:\u001b[0m     git metadata        : 1\n",
      "\u001b[1;38;5;39mCOMET INFO:\u001b[0m     notebook            : 1\n",
      "\u001b[1;38;5;39mCOMET INFO:\u001b[0m     source_code         : 1\n",
      "\u001b[1;38;5;39mCOMET INFO:\u001b[0m \n"
     ]
    }
   ],
   "source": [
    "# Ketika sudah selesai, akhiri eksperimen comet\n",
    "experiment.end()"
   ]
  }
 ],
 "metadata": {
  "accelerator": "GPU",
  "colab": {
   "collapsed_sections": [
    "uoJsVjtCMunI"
   ],
   "name": "TF_Part2_Music_Generation_Solution.ipynb",
   "provenance": []
  },
  "kernelspec": {
   "display_name": "Python 3",
   "language": "python",
   "name": "python3"
  },
  "language_info": {
   "codemirror_mode": {
    "name": "ipython",
    "version": 3
   },
   "file_extension": ".py",
   "mimetype": "text/x-python",
   "name": "python",
   "nbconvert_exporter": "python",
   "pygments_lexer": "ipython3",
   "version": "3.10.17"
  }
 },
 "nbformat": 4,
 "nbformat_minor": 4
}
